{
 "cells": [
  {
   "cell_type": "code",
   "execution_count": 1,
   "metadata": {},
   "outputs": [
    {
     "ename": "ModuleNotFoundError",
     "evalue": "No module named 'matplotlib'",
     "output_type": "error",
     "traceback": [
      "\u001b[1;31m---------------------------------------------------------------------------\u001b[0m",
      "\u001b[1;31mModuleNotFoundError\u001b[0m                       Traceback (most recent call last)",
      "Cell \u001b[1;32mIn[1], line 1\u001b[0m\n\u001b[1;32m----> 1\u001b[0m \u001b[38;5;28;01mimport\u001b[39;00m \u001b[38;5;21;01mmatplotlib\u001b[39;00m\u001b[38;5;21;01m.\u001b[39;00m\u001b[38;5;21;01mpyplot\u001b[39;00m \u001b[38;5;28;01mas\u001b[39;00m \u001b[38;5;21;01mplt\u001b[39;00m\n\u001b[0;32m      2\u001b[0m \u001b[38;5;28;01mimport\u001b[39;00m \u001b[38;5;21;01mnumpy\u001b[39;00m \u001b[38;5;28;01mas\u001b[39;00m \u001b[38;5;21;01mnp\u001b[39;00m\n\u001b[0;32m      4\u001b[0m x\u001b[38;5;241m=\u001b[39mnp\u001b[38;5;241m.\u001b[39mlinspace(\u001b[38;5;241m0\u001b[39m,\u001b[38;5;241m10\u001b[39m,\u001b[38;5;241m100\u001b[39m)\n",
      "\u001b[1;31mModuleNotFoundError\u001b[0m: No module named 'matplotlib'"
     ]
    }
   ],
   "source": [
    "import matplotlib.pyplot as plt\n",
    "import numpy as np\n",
    "\n",
    "x=np.linspace(0,10,100)\n",
    "\n",
    "fig= plt.figure()\n",
    "plt.plot(x,np.sin(x),'r-',label=\"sin(x)\")\n",
    "plt.plot(x,np.cos(x),'r-',label=\"cos(x)\")\n",
    "plt.xlabel('x')\n",
    "plt.ylabel('y')\n",
    "plt.legend(loc=\"upper_left\",frameon=False)\n",
    "\n",
    "#grafica al estilo OOP\n",
    "\n",
    "\n",
    "fig =plt.figure()\n",
    "ax=plt.axes()\n",
    "\n",
    "ax.plot(x,np.sin(x),'r-',label=\"sin(x)\")\n",
    "ax.plot(x,np.cos(x),'b-',label=\"cos(x)\")\n",
    "ax.set_xlabel('x')\n",
    "ax.set_ylabel('y')\n",
    "ax.legend(loc=\"upper Left\",frameon=False)\n",
    "\n",
    "#subplots al estilo matlab\n",
    "plt.figure()\n",
    "plt.subplot(2,1,1)\n",
    "plt.plot(x,np.sin(x))\n",
    "plt.ylabel('y=sin(x)')\n",
    "plt.subplot(2,1,2)\n",
    "plt.plot(x,np.cos(x))\n",
    "plt.xlabel('x=cos(x)')\n",
    "\n",
    "fig,ax=plt.subplots(2)\n",
    "ax[0].plot(x,np.sin(x))\n",
    "ax[0].set_ylabel('y=sin(x)')\n",
    "ax[0].plot(x,np.cos(x))\n",
    "ax[0].set_ylabel('x=cos(x)')\n",
    "ax[0].set_xlabel('x=cos(x)')\n",
    "\n",
    "\n",
    "#Seaborn\n",
    "import seaborn as sns\n",
    "sns.set_theme(style=\"darkgrid\")\n",
    "fig,ax = plt.subplots(2)\n",
    "ax[0].plot(x,np.sin(x))\n",
    "ax[0].set_ylabel('y=sin(x)')\n",
    "ax[0].plot(x,np.cos(x))\n",
    "ax[0].set_ylabel('x=cos(x)')\n",
    "ax[0].set_xlabel('x=cos(x)')\n",
    "\n",
    "#Graficas con LaTex\n",
    "from matplotlib import rc\n",
    "rc('text',usetex=True)\n",
    "rc('axes',linewidth=1.5)\n",
    "rc('axes',edgecolor='k')\n",
    "fig=plt.figure()\n",
    "ax=plt.axes()\n",
    "ax.plot(x,np.sin(x),'r-',label=r'$\\sin(x)$')\n",
    "ax.plot(x,np.cos(x),'b-',label=r'$\\cos(x)$')\n",
    "ax.set_xlabel(r'$x$')\n",
    "ax.set_ylabel(r'$y$')\n",
    "ax.legend(loc=\"upper Left\",frameon=False)\n"
   ]
  }
 ],
 "metadata": {
  "kernelspec": {
   "display_name": "Python 3",
   "language": "python",
   "name": "python3"
  },
  "language_info": {
   "codemirror_mode": {
    "name": "ipython",
    "version": 3
   },
   "file_extension": ".py",
   "mimetype": "text/x-python",
   "name": "python",
   "nbconvert_exporter": "python",
   "pygments_lexer": "ipython3",
   "version": "3.12.5"
  }
 },
 "nbformat": 4,
 "nbformat_minor": 2
}
