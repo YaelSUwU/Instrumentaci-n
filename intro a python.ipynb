{
 "cells": [
  {
   "cell_type": "code",
   "execution_count": null,
   "metadata": {},
   "outputs": [],
   "source": [
    "from math import pi\n",
    "#se agregan las librerias"
   ]
  },
  {
   "cell_type": "code",
   "execution_count": null,
   "metadata": {},
   "outputs": [],
   "source": [
    "ang_deg=float(input(\"ingrese angulo: \\n\"))\n",
    "\n",
    "ang_rad=ang_deg*(pi/180)"
   ]
  },
  {
   "cell_type": "code",
   "execution_count": null,
   "metadata": {},
   "outputs": [],
   "source": [
    "print (\"radianes =\" ,ang_rad)\n",
    "print(\"radianes = %g\"%ang_rad)\n",
    "print(\"radianes = %0.3f\"%ang_rad)"
   ]
  }
 ],
 "metadata": {
  "language_info": {
   "name": "python"
  }
 },
 "nbformat": 4,
 "nbformat_minor": 2
}
